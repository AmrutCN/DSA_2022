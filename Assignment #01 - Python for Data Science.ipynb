{
 "cells": [
  {
   "cell_type": "code",
   "execution_count": 1,
   "id": "35bc0289",
   "metadata": {},
   "outputs": [],
   "source": [
    "import numpy as np\n",
    "import pandas as pd\n",
    "import matplotlib.pyplot as plt\n",
    "import seaborn as sns"
   ]
  },
  {
   "cell_type": "markdown",
   "id": "c7d86fe0",
   "metadata": {},
   "source": [
    "1. Read the dataset to python environment."
   ]
  },
  {
   "cell_type": "code",
   "execution_count": 2,
   "id": "29857eea",
   "metadata": {},
   "outputs": [
    {
     "data": {
      "text/html": [
       "<div>\n",
       "<style scoped>\n",
       "    .dataframe tbody tr th:only-of-type {\n",
       "        vertical-align: middle;\n",
       "    }\n",
       "\n",
       "    .dataframe tbody tr th {\n",
       "        vertical-align: top;\n",
       "    }\n",
       "\n",
       "    .dataframe thead th {\n",
       "        text-align: right;\n",
       "    }\n",
       "</style>\n",
       "<table border=\"1\" class=\"dataframe\">\n",
       "  <thead>\n",
       "    <tr style=\"text-align: right;\">\n",
       "      <th></th>\n",
       "      <th>SL</th>\n",
       "      <th>SW</th>\n",
       "      <th>PL</th>\n",
       "      <th>PW</th>\n",
       "      <th>Classification</th>\n",
       "    </tr>\n",
       "  </thead>\n",
       "  <tbody>\n",
       "    <tr>\n",
       "      <th>0</th>\n",
       "      <td>5.1</td>\n",
       "      <td>3.5</td>\n",
       "      <td>1.4</td>\n",
       "      <td>0.2</td>\n",
       "      <td>Iris-setosa</td>\n",
       "    </tr>\n",
       "    <tr>\n",
       "      <th>1</th>\n",
       "      <td>4.9</td>\n",
       "      <td>3.0</td>\n",
       "      <td>1.4</td>\n",
       "      <td>0.2</td>\n",
       "      <td>Iris-setosa</td>\n",
       "    </tr>\n",
       "    <tr>\n",
       "      <th>2</th>\n",
       "      <td>4.7</td>\n",
       "      <td>3.2</td>\n",
       "      <td>1.3</td>\n",
       "      <td>0.2</td>\n",
       "      <td>Iris-setosa</td>\n",
       "    </tr>\n",
       "    <tr>\n",
       "      <th>3</th>\n",
       "      <td>4.6</td>\n",
       "      <td>3.1</td>\n",
       "      <td>1.5</td>\n",
       "      <td>0.2</td>\n",
       "      <td>Iris-setosa</td>\n",
       "    </tr>\n",
       "    <tr>\n",
       "      <th>4</th>\n",
       "      <td>5.0</td>\n",
       "      <td>3.6</td>\n",
       "      <td>1.4</td>\n",
       "      <td>0.2</td>\n",
       "      <td>Iris-setosa</td>\n",
       "    </tr>\n",
       "    <tr>\n",
       "      <th>...</th>\n",
       "      <td>...</td>\n",
       "      <td>...</td>\n",
       "      <td>...</td>\n",
       "      <td>...</td>\n",
       "      <td>...</td>\n",
       "    </tr>\n",
       "    <tr>\n",
       "      <th>145</th>\n",
       "      <td>6.7</td>\n",
       "      <td>3.0</td>\n",
       "      <td>5.2</td>\n",
       "      <td>2.3</td>\n",
       "      <td>Iris-virginica</td>\n",
       "    </tr>\n",
       "    <tr>\n",
       "      <th>146</th>\n",
       "      <td>6.3</td>\n",
       "      <td>2.5</td>\n",
       "      <td>5.0</td>\n",
       "      <td>1.9</td>\n",
       "      <td>Iris-virginica</td>\n",
       "    </tr>\n",
       "    <tr>\n",
       "      <th>147</th>\n",
       "      <td>6.5</td>\n",
       "      <td>3.0</td>\n",
       "      <td>5.2</td>\n",
       "      <td>2.0</td>\n",
       "      <td>Iris-virginica</td>\n",
       "    </tr>\n",
       "    <tr>\n",
       "      <th>148</th>\n",
       "      <td>6.2</td>\n",
       "      <td>3.4</td>\n",
       "      <td>5.4</td>\n",
       "      <td>2.3</td>\n",
       "      <td>Iris-virginica</td>\n",
       "    </tr>\n",
       "    <tr>\n",
       "      <th>149</th>\n",
       "      <td>5.9</td>\n",
       "      <td>3.0</td>\n",
       "      <td>5.1</td>\n",
       "      <td>1.8</td>\n",
       "      <td>Iris-virginica</td>\n",
       "    </tr>\n",
       "  </tbody>\n",
       "</table>\n",
       "<p>150 rows × 5 columns</p>\n",
       "</div>"
      ],
      "text/plain": [
       "      SL   SW   PL   PW  Classification\n",
       "0    5.1  3.5  1.4  0.2     Iris-setosa\n",
       "1    4.9  3.0  1.4  0.2     Iris-setosa\n",
       "2    4.7  3.2  1.3  0.2     Iris-setosa\n",
       "3    4.6  3.1  1.5  0.2     Iris-setosa\n",
       "4    5.0  3.6  1.4  0.2     Iris-setosa\n",
       "..   ...  ...  ...  ...             ...\n",
       "145  6.7  3.0  5.2  2.3  Iris-virginica\n",
       "146  6.3  2.5  5.0  1.9  Iris-virginica\n",
       "147  6.5  3.0  5.2  2.0  Iris-virginica\n",
       "148  6.2  3.4  5.4  2.3  Iris-virginica\n",
       "149  5.9  3.0  5.1  1.8  Iris-virginica\n",
       "\n",
       "[150 rows x 5 columns]"
      ]
     },
     "execution_count": 2,
     "metadata": {},
     "output_type": "execute_result"
    }
   ],
   "source": [
    "data = pd.read_excel(r'C:\\Users\\ADAM\\Downloads\\iris.xls')\n",
    "df= pd.DataFrame(data, columns= ['SL','SW','PL','PW','Classification'])\n",
    "df"
   ]
  },
  {
   "cell_type": "markdown",
   "id": "7eb4faf0",
   "metadata": {},
   "source": [
    "2. Display the columns in the dataset"
   ]
  },
  {
   "cell_type": "code",
   "execution_count": 3,
   "id": "b1187134",
   "metadata": {},
   "outputs": [
    {
     "data": {
      "text/plain": [
       "['SL', 'SW', 'PL', 'PW', 'Classification']"
      ]
     },
     "execution_count": 3,
     "metadata": {},
     "output_type": "execute_result"
    }
   ],
   "source": [
    "list(df.columns)"
   ]
  },
  {
   "cell_type": "markdown",
   "id": "a1205e50",
   "metadata": {},
   "source": [
    "3. Calculate the mean of each column of the dataset."
   ]
  },
  {
   "cell_type": "code",
   "execution_count": 4,
   "id": "5d8154c3",
   "metadata": {},
   "outputs": [
    {
     "name": "stdout",
     "output_type": "stream",
     "text": [
      "Mean of Sepal Length = 5.843333333333335\n",
      "Mean of Sepal Width = 3.0540000000000007\n",
      "Mean of Petal Length = 3.7586666666666693\n",
      "Mean of Petal width = 1.1986666666666672\n"
     ]
    }
   ],
   "source": [
    "print(\"Mean of Sepal Length =\",df['SL'].mean())\n",
    "print(\"Mean of Sepal Width =\",df['SW'].mean())\n",
    "print(\"Mean of Petal Length =\",df['PL'].mean())\n",
    "print(\"Mean of Petal width =\",df['PW'].mean())"
   ]
  },
  {
   "cell_type": "markdown",
   "id": "4067080a",
   "metadata": {},
   "source": [
    "4. Check for the null values present in the dataset.\n"
   ]
  },
  {
   "cell_type": "code",
   "execution_count": 5,
   "id": "b1af59cc",
   "metadata": {},
   "outputs": [
    {
     "name": "stdout",
     "output_type": "stream",
     "text": [
      "Null Values in Sepal Length = 0\n",
      "Null Values in Sepal Width = 0\n",
      "Null Values in Petal Length = 0\n",
      "Null Values in Petal width = 0\n"
     ]
    }
   ],
   "source": [
    "print(\"Null Values in Sepal Length =\",df['SL'].isnull().sum())\n",
    "print(\"Null Values in Sepal Width =\",df['SW'].isnull().sum())\n",
    "print(\"Null Values in Petal Length =\",df['PL'].isnull().sum())\n",
    "print(\"Null Values in Petal width =\",df['PW'].isnull().sum())"
   ]
  },
  {
   "cell_type": "markdown",
   "id": "2b22f554",
   "metadata": {},
   "source": [
    "5. Perform meaningful visualizations using the dataset."
   ]
  },
  {
   "cell_type": "code",
   "execution_count": 5,
   "id": "34b9aa19",
   "metadata": {},
   "outputs": [
    {
     "name": "stdout",
     "output_type": "stream",
     "text": [
      "['Iris-setosa' 'Iris-versicolor' 'Iris-virginica']\n"
     ]
    }
   ],
   "source": [
    "print(df.Classification.unique())\n",
    "class1=[\"Iris-setosa\"]\n",
    "df1=df.loc[df['Classification'].isin(class1)]\n",
    "class2=[\"Iris-versicolor\"]\n",
    "df2=df.loc[df['Classification'].isin(class2)]\n",
    "class3=[\"Iris-virginica\"]\n",
    "df3=df.loc[df['Classification'].isin(class3)]"
   ]
  },
  {
   "cell_type": "code",
   "execution_count": 30,
   "id": "74049a81",
   "metadata": {},
   "outputs": [
    {
     "data": {
      "text/plain": [
       "Text(0.5, 1.0, 'Average Size of the flower based on sepal and petal length')"
      ]
     },
     "execution_count": 30,
     "metadata": {},
     "output_type": "execute_result"
    },
    {
     "data": {
      "image/png": "[encoded data removed]",
      "text/plain": [
       "<Figure size 432x288 with 1 Axes>"
      ]
     },
     "metadata": {
      "needs_background": "light"
     },
     "output_type": "display_data"
    }
   ],
   "source": [
    "type=df.Classification.unique()\n",
    "flower=[]\n",
    "for n in type:\n",
    "    ndf=df.loc[df['Classification'].isin([n])]\n",
    "    array=[n,ndf['SL'].mean(),ndf['SW'].mean(),ndf['PL'].mean(),ndf['PW'].mean()]\n",
    "    flower.append(array)\n",
    "\n",
    "adf= pd.DataFrame(flower, columns= ['Classification','SL','SW','PL','PW'])\n",
    "adf_transposed = adf.T\n",
    "x=np.arange(0,8)\n",
    "y=np.arange(0,8)\n",
    "x\n",
    "plt.plot(adf['Classification'],adf['PL'],color=\"red\")\n",
    "plt.plot(adf['Classification'],adf['SL'],color=\"green\")\n",
    "plt.title('Average Size of the flower based on sepal and petal length')"
   ]
  },
  {
   "cell_type": "code",
   "execution_count": 28,
   "id": "bb178715",
   "metadata": {},
   "outputs": [
    {
     "data": {
      "text/plain": [
       "Text(0.5, 1.0, 'Average Size of the flower based on sepal and petal length')"
      ]
     },
     "execution_count": 28,
     "metadata": {},
     "output_type": "execute_result"
    },
    {
     "data": {
      "image/png": "[encoded data removed]",
      "text/plain": [
       "<Figure size 432x288 with 1 Axes>"
      ]
     },
     "metadata": {
      "needs_background": "light"
     },
     "output_type": "display_data"
    }
   ],
   "source": [
    "largeflower=[]\n",
    "for n in type:\n",
    "    ndf=df.loc[df['Classification'].isin([n])]\n",
    "    array=[n,ndf['SL'].max(),ndf['SW'].max(),ndf['PL'].max(),ndf['PW'].max()]\n",
    "    largeflower.append(array)\n",
    "ldf= pd.DataFrame(largeflower, columns= ['Classification','SL','SW','PL','PW'])\n",
    "smallflower=[]\n",
    "for n in type:\n",
    "    ndf=df.loc[df['Classification'].isin([n])]\n",
    "    array=[n,ndf['SL'].min(),ndf['SW'].min(),ndf['PL'].min(),ndf['PW'].min()]\n",
    "    smallflower.append(array)\n",
    "sdf= pd.DataFrame(smallflower, columns= ['Classification','SL','SW','PL','PW'])\n",
    "plt.plot(sdf['Classification'],sdf['PL'])\n",
    "plt.plot(ldf['Classification'],ldf['PL'])\n",
    "plt.title('comparison of Size in each category of the flower based on petal length')"
   ]
  },
  {
   "cell_type": "code",
   "execution_count": 31,
   "id": "b9163fb7",
   "metadata": {},
   "outputs": [
    {
     "data": {
      "text/plain": [
       "(array([1.5, 2. , 2.5, 3. , 3.5, 4. , 4.5, 5. ]),\n",
       " [Text(0, 0, ''),\n",
       "  Text(0, 0, ''),\n",
       "  Text(0, 0, ''),\n",
       "  Text(0, 0, ''),\n",
       "  Text(0, 0, ''),\n",
       "  Text(0, 0, ''),\n",
       "  Text(0, 0, ''),\n",
       "  Text(0, 0, '')])"
      ]
     },
     "execution_count": 31,
     "metadata": {},
     "output_type": "execute_result"
    },
    {
     "data": {
      "image/png": "[encoded data removed]",
      "text/plain": [
       "<Figure size 432x288 with 1 Axes>"
      ]
     },
     "metadata": {
      "needs_background": "light"
     },
     "output_type": "display_data"
    }
   ],
   "source": [
    "plt.figure()\n",
    "plt.scatter(df['PW'],df['SW'],s=10)\n",
    "plt.title('Petal Width vs Sepal Width')\n",
    "plt.xticks()\n",
    "plt.yticks()"
   ]
  }
 ],
 "metadata": {
  "kernelspec": {
   "display_name": "Python 3 (ipykernel)",
   "language": "python",
   "name": "python3"
  },
  "language_info": {
   "codemirror_mode": {
    "name": "ipython",
    "version": 3
   },
   "file_extension": ".py",
   "mimetype": "text/x-python",
   "name": "python",
   "nbconvert_exporter": "python",
   "pygments_lexer": "ipython3",
   "version": "3.9.7"
  }
 },
 "nbformat": 4,
 "nbformat_minor": 5
}
